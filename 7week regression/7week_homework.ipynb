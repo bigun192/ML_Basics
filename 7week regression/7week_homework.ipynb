{
 "cells": [
  {
   "cell_type": "code",
   "execution_count": 164,
   "metadata": {
    "scrolled": true
   },
   "outputs": [
    {
     "name": "stdout",
     "output_type": "stream",
     "text": [
      "<class 'pandas.core.frame.DataFrame'>\n",
      "RangeIndex: 56 entries, 0 to 55\n",
      "Data columns (total 3 columns):\n",
      "length    56 non-null float64\n",
      "height    56 non-null float64\n",
      "width     56 non-null float64\n",
      "dtypes: float64(3)\n",
      "memory usage: 1.4 KB\n"
     ]
    },
    {
     "data": {
      "text/html": [
       "<div>\n",
       "<style scoped>\n",
       "    .dataframe tbody tr th:only-of-type {\n",
       "        vertical-align: middle;\n",
       "    }\n",
       "\n",
       "    .dataframe tbody tr th {\n",
       "        vertical-align: top;\n",
       "    }\n",
       "\n",
       "    .dataframe thead th {\n",
       "        text-align: right;\n",
       "    }\n",
       "</style>\n",
       "<table border=\"1\" class=\"dataframe\">\n",
       "  <thead>\n",
       "    <tr style=\"text-align: right;\">\n",
       "      <th></th>\n",
       "      <th>length</th>\n",
       "      <th>height</th>\n",
       "      <th>width</th>\n",
       "    </tr>\n",
       "  </thead>\n",
       "  <tbody>\n",
       "    <tr>\n",
       "      <th>0</th>\n",
       "      <td>8.4</td>\n",
       "      <td>2.11</td>\n",
       "      <td>1.41</td>\n",
       "    </tr>\n",
       "    <tr>\n",
       "      <th>1</th>\n",
       "      <td>13.7</td>\n",
       "      <td>3.53</td>\n",
       "      <td>2.00</td>\n",
       "    </tr>\n",
       "    <tr>\n",
       "      <th>2</th>\n",
       "      <td>15.0</td>\n",
       "      <td>3.82</td>\n",
       "      <td>2.43</td>\n",
       "    </tr>\n",
       "    <tr>\n",
       "      <th>3</th>\n",
       "      <td>16.2</td>\n",
       "      <td>4.59</td>\n",
       "      <td>2.63</td>\n",
       "    </tr>\n",
       "    <tr>\n",
       "      <th>4</th>\n",
       "      <td>17.4</td>\n",
       "      <td>4.59</td>\n",
       "      <td>2.94</td>\n",
       "    </tr>\n",
       "  </tbody>\n",
       "</table>\n",
       "</div>"
      ],
      "text/plain": [
       "   length  height  width\n",
       "0     8.4    2.11   1.41\n",
       "1    13.7    3.53   2.00\n",
       "2    15.0    3.82   2.43\n",
       "3    16.2    4.59   2.63\n",
       "4    17.4    4.59   2.94"
      ]
     },
     "execution_count": 164,
     "metadata": {},
     "output_type": "execute_result"
    }
   ],
   "source": [
    "#7주차 과제 - 농어의 길이,  높이,  폭으로 무게를 예측하는 최적의  머신러닝 모델을 만드시오\n",
    "#최적의 특성 갯수를 찾으시오(그래프를 그림)\n",
    "import pandas as pd\n",
    "import numpy as np\n",
    "import matplotlib.pyplot as plt\n",
    "\n",
    "from sklearn.linear_model import LinearRegression\n",
    "from sklearn.model_selection import train_test_split\n",
    "from sklearn.preprocessing import PolynomialFeatures\n",
    "\n",
    "df=pd.read_csv('perch_full.csv')\n",
    "weight = np.array([5.9, 32.0, 40.0, 51.5, 70.0, 100.0, 78.0, 80.0, 85.0, 85.0, 110.0,\n",
    "       115.0, 125.0, 130.0, 120.0, 120.0, 130.0, 135.0, 110.0, 130.0,\n",
    "       150.0, 145.0, 150.0, 170.0, 225.0, 145.0, 188.0, 180.0, 197.0,\n",
    "       218.0, 300.0, 260.0, 265.0, 250.0, 250.0, 300.0, 320.0, 514.0,\n",
    "       556.0, 840.0, 685.0, 700.0, 700.0, 690.0, 900.0, 650.0, 820.0,\n",
    "       850.0, 900.0, 1015.0, 820.0, 1100.0, 1000.0, 1100.0, 1000.0,\n",
    "       1000.0])\n",
    "\n",
    "weight = weight.reshape(-1,1)\n",
    "df.length\n",
    "df.info()\n",
    "\n",
    "df. head()\n"
   ]
  },
  {
   "cell_type": "code",
   "execution_count": 163,
   "metadata": {},
   "outputs": [
    {
     "data": {
      "text/plain": [
       "<matplotlib.collections.PathCollection at 0x179edb60748>"
      ]
     },
     "execution_count": 163,
     "metadata": {},
     "output_type": "execute_result"
    },
    {
     "data": {
      "image/png": "[encoded data removed]",
      "text/plain": [
       "<matplotlib.figure.Figure at 0x179ed8f4860>"
      ]
     },
     "metadata": {
      "needs_background": "light"
     },
     "output_type": "display_data"
    }
   ],
   "source": [
    "plt.scatter(df.length,weight)\n"
   ]
  },
  {
   "cell_type": "code",
   "execution_count": 165,
   "metadata": {},
   "outputs": [
    {
     "data": {
      "text/plain": [
       "<matplotlib.collections.PathCollection at 0x179ed91d668>"
      ]
     },
     "execution_count": 165,
     "metadata": {},
     "output_type": "execute_result"
    },
    {
     "data": {
      "image/png": "[encoded data removed]",
      "text/plain": [
       "<matplotlib.figure.Figure at 0x179eda6af60>"
      ]
     },
     "metadata": {
      "needs_background": "light"
     },
     "output_type": "display_data"
    }
   ],
   "source": [
    "plt.scatter(df.height,weight)\n"
   ]
  },
  {
   "cell_type": "code",
   "execution_count": 166,
   "metadata": {},
   "outputs": [
    {
     "data": {
      "text/plain": [
       "<matplotlib.collections.PathCollection at 0x179ed7a1f98>"
      ]
     },
     "execution_count": 166,
     "metadata": {},
     "output_type": "execute_result"
    },
    {
     "data": {
      "image/png": "[encoded data removed]",
      "text/plain": [
       "<matplotlib.figure.Figure at 0x179ed99b668>"
      ]
     },
     "metadata": {
      "needs_background": "light"
     },
     "output_type": "display_data"
    }
   ],
   "source": [
    "plt.scatter(df.width,weight)\n"
   ]
  },
  {
   "cell_type": "code",
   "execution_count": 167,
   "metadata": {},
   "outputs": [
    {
     "data": {
      "text/plain": [
       "LinearRegression(copy_X=True, fit_intercept=True, n_jobs=1, normalize=False)"
      ]
     },
     "execution_count": 167,
     "metadata": {},
     "output_type": "execute_result"
    }
   ],
   "source": [
    "train_input,test_input,train_target,test_target = train_test_split(df,weight,random_state= 42)\n",
    "\n",
    "\n",
    "lr = LinearRegression()\n",
    "lr.fit(train_input, train_target)\n",
    "\n"
   ]
  },
  {
   "cell_type": "code",
   "execution_count": 86,
   "metadata": {},
   "outputs": [
    {
     "name": "stdout",
     "output_type": "stream",
     "text": [
      "0.9559326821885706\n",
      "0.8796419177546366\n"
     ]
    }
   ],
   "source": [
    "print(lr.score(train_input,train_target))\n",
    "print(lr.score(test_input,test_target))"
   ]
  },
  {
   "cell_type": "code",
   "execution_count": 128,
   "metadata": {},
   "outputs": [
    {
     "name": "stdout",
     "output_type": "stream",
     "text": [
      "[ 9.07538153 69.46401443 38.00385678]\n",
      "-599.1708082981099\n",
      "   length  height  width  weight\n",
      "0     8.4    2.11   1.41     5.9\n",
      "1    13.7    3.53   2.00    32.0\n",
      "2    15.0    3.82   2.43    40.0\n",
      "3    16.2    4.59   2.63    51.5\n",
      "4    17.4    4.59   2.94    70.0\n"
     ]
    },
    {
     "data": {
      "text/html": [
       "<div>\n",
       "<style scoped>\n",
       "    .dataframe tbody tr th:only-of-type {\n",
       "        vertical-align: middle;\n",
       "    }\n",
       "\n",
       "    .dataframe tbody tr th {\n",
       "        vertical-align: top;\n",
       "    }\n",
       "\n",
       "    .dataframe thead th {\n",
       "        text-align: right;\n",
       "    }\n",
       "</style>\n",
       "<table border=\"1\" class=\"dataframe\">\n",
       "  <thead>\n",
       "    <tr style=\"text-align: right;\">\n",
       "      <th></th>\n",
       "      <th>length</th>\n",
       "      <th>height</th>\n",
       "      <th>width</th>\n",
       "      <th>weight</th>\n",
       "    </tr>\n",
       "  </thead>\n",
       "  <tbody>\n",
       "    <tr>\n",
       "      <th>length</th>\n",
       "      <td>1.000000</td>\n",
       "      <td>0.985620</td>\n",
       "      <td>0.974574</td>\n",
       "      <td>0.958656</td>\n",
       "    </tr>\n",
       "    <tr>\n",
       "      <th>height</th>\n",
       "      <td>0.985620</td>\n",
       "      <td>1.000000</td>\n",
       "      <td>0.982843</td>\n",
       "      <td>0.968413</td>\n",
       "    </tr>\n",
       "    <tr>\n",
       "      <th>width</th>\n",
       "      <td>0.974574</td>\n",
       "      <td>0.982843</td>\n",
       "      <td>1.000000</td>\n",
       "      <td>0.963924</td>\n",
       "    </tr>\n",
       "    <tr>\n",
       "      <th>weight</th>\n",
       "      <td>0.958656</td>\n",
       "      <td>0.968413</td>\n",
       "      <td>0.963924</td>\n",
       "      <td>1.000000</td>\n",
       "    </tr>\n",
       "  </tbody>\n",
       "</table>\n",
       "</div>"
      ],
      "text/plain": [
       "          length    height     width    weight\n",
       "length  1.000000  0.985620  0.974574  0.958656\n",
       "height  0.985620  1.000000  0.982843  0.968413\n",
       "width   0.974574  0.982843  1.000000  0.963924\n",
       "weight  0.958656  0.968413  0.963924  1.000000"
      ]
     },
     "execution_count": 128,
     "metadata": {},
     "output_type": "execute_result"
    }
   ],
   "source": [
    "print(lr.coef_)\n",
    "print(lr.intercept_)\n",
    "\n",
    "weight=pd.DataFrame(weight, columns = ['weight']) #무게 데이터를 넘파이배열 -> 데이터 프레임으로 변환\n",
    "\n",
    "df2 = pd.concat([df,weight],axis = 1) #-> 데이터프레임 가로로 합치기\n",
    "print(df2.head())\n",
    "corr = df2.corr(method = 'pearson') # 상관계수 분석 피어슨 방식계수 분석 피어슨 방식\n",
    "corr # 상관계수는 셋 다 매우 높다. 그 중 height가 weight와 연관성이 높은걸 볼 수 있다."
   ]
  },
  {
   "cell_type": "code",
   "execution_count": 151,
   "metadata": {},
   "outputs": [
    {
     "name": "stdout",
     "output_type": "stream",
     "text": [
      "0.9903183436982124\n",
      "0.9714559911594164\n",
      "[[  34.80604039  -88.68430232 -184.11606694   -2.2696004     8.74890226\n",
      "     9.41670602   27.76120631 -119.89306061   93.68198334]]\n",
      "[124.06521772]\n"
     ]
    }
   ],
   "source": [
    "poly = PolynomialFeatures(degree =2 , include_bias = False) # 데이터양 늘리기. \n",
    "poly.fit(train_input)\n",
    "train_poly = poly.transform(train_input)\n",
    "test_poly = poly.transform(test_input)\n",
    "\n",
    "\n",
    "lr = LinearRegression()\n",
    "lr.fit(train_poly, train_target)\n",
    "print(lr.score(train_poly, train_target))\n",
    "print(lr.score(test_poly, test_target))\n",
    "\n",
    "print(lr.coef_)\n",
    "print(lr.intercept_) # -599에서 124라는 정상적인 값으로 돌아왔음을 볼 수 있다."
   ]
  },
  {
   "cell_type": "code",
   "execution_count": 129,
   "metadata": {},
   "outputs": [],
   "source": [
    "from sklearn.preprocessing import StandardScaler\n",
    "\n",
    "ss = StandardScaler()\n",
    "ss.fit(train_poly)\n",
    "\n",
    "train_scaled = ss.transform(train_poly)\n",
    "test_scaled = ss.transform(test_poly)"
   ]
  },
  {
   "cell_type": "code",
   "execution_count": 171,
   "metadata": {},
   "outputs": [
    {
     "data": {
      "text/plain": [
       "array([[-1.01339619, -1.01007487, -1.01952321, -0.9549757 , -0.9496784 ,\n",
       "        -0.95745849, -0.93942079, -0.94342509, -0.94100107, -0.88757122,\n",
       "        -0.88399964, -0.89100599, -0.87785292, -0.88311456, -0.88430909,\n",
       "        -0.8691891 , -0.87259422, -0.87147928, -0.86603533],\n",
       "       [-0.73842893, -0.75254307, -0.74466913, -0.76472563, -0.7717585 ,\n",
       "        -0.77238267, -0.7747325 , -0.77298293, -0.76716811, -0.76291014,\n",
       "        -0.76770896, -0.77117372, -0.7701438 , -0.77242144, -0.77168016,\n",
       "        -0.7701077 , -0.7710676 , -0.76852551, -0.76268353],\n",
       "       [-1.11650891, -0.98919391, -0.97371419, -1.02065999, -0.9714645 ,\n",
       "        -0.97031097, -0.92689165, -0.92331614, -0.91379551, -0.92715994,\n",
       "        -0.90484569, -0.90818436, -0.88325413, -0.88524768, -0.88320326,\n",
       "        -0.86212687, -0.8626609 , -0.85882187, -0.85087284],\n",
       "       [-1.26544951, -1.20148364, -1.07678447, -1.11008743, -1.0794873 ,\n",
       "        -1.04481394, -1.04749571, -1.01503633, -0.97401432, -0.97797552,\n",
       "        -0.96206357, -0.95311717, -0.94494104, -0.93616908, -0.92216271,\n",
       "        -0.92657374, -0.91767167, -0.90326519, -0.88389764],\n",
       "       [ 0.86554673,  0.89357239,  1.09914363,  0.78258063,  0.79878122,\n",
       "         0.93990033,  0.80045116,  0.93459078,  1.05668676,  0.67651527,\n",
       "         0.68764875,  0.8012992 ,  0.69013427,  0.8009429 ,  0.90667389,\n",
       "         0.68467425,  0.79166951,  0.89283215,  0.98585419],\n",
       "       [-0.39471986, -0.55765413, -0.65305111, -0.49604314, -0.5750369 ,\n",
       "        -0.62146959, -0.63540138, -0.67211558, -0.70357069, -0.56395379,\n",
       "        -0.6103463 , -0.63781445, -0.64762299, -0.67060293, -0.69043372,\n",
       "        -0.67646942, -0.69521399, -0.71022405, -0.72125006],\n",
       "       [ 1.3238255 ,  1.35295344,  1.31101032,  1.3618677 ,  1.39093563,\n",
       "         1.37273894,  1.40131663,  1.38189727,  1.33959041,  1.36984437,\n",
       "         1.39999547,  1.39191582,  1.41779851,  1.40865001,  1.38290013,\n",
       "         1.42380782,  1.41279139,  1.38458125,  1.34042204],\n",
       "       [ 1.2092558 ,  1.52696142,  1.44843736,  1.21132928,  1.43800209,\n",
       "         1.39605998,  1.64729487,  1.60161039,  1.53117765,  1.18272067,\n",
       "         1.37570934,  1.34793759,  1.56537854,  1.53499616,  1.48732705,\n",
       "         1.75049382,  1.71619879,  1.66238613,  1.59108057],\n",
       "       [ 1.66753457,  1.35295344,  1.40835447,  1.83634954,  1.61345985,\n",
       "         1.66958994,  1.40131663,  1.45005061,  1.47464108,  1.98973911,\n",
       "         1.79645441,  1.85813655,  1.60719997,  1.66233738,  1.69921875,\n",
       "         1.42380782,  1.47214581,  1.50309006,  1.51624901],\n",
       "       [-0.73842893, -0.83606689, -0.74466913, -0.76472563, -0.80458689,\n",
       "        -0.77238267, -0.83056835, -0.80137203, -0.76716811, -0.76291014,\n",
       "        -0.78321194, -0.77117372, -0.79712539, -0.7862209 , -0.77168016,\n",
       "        -0.80517675, -0.79494184, -0.78060078, -0.76268353],\n",
       "       [-0.96756831, -1.03095583, -1.17412863, -0.92479179, -0.94435622,\n",
       "        -1.00082527, -0.95180452, -0.99564652, -1.02760288, -0.86876435,\n",
       "        -0.87633655, -0.90438987, -0.87860532, -0.90155019, -0.91839498,\n",
       "        -0.87608837, -0.89426004, -0.90609059, -0.911589  ],\n",
       "       [-0.73842893, -0.6724994 , -0.74466913, -0.76472563, -0.74029797,\n",
       "        -0.77238267, -0.71904004, -0.7457767 , -0.76716811, -0.76291014,\n",
       "        -0.75285195, -0.77117372, -0.7432315 , -0.75919696, -0.77168016,\n",
       "        -0.73370241, -0.74725466, -0.75695337, -0.76268353],\n",
       "       [-0.50928955, -0.26184057, -0.6301466 , -0.58941507, -0.48824064,\n",
       "        -0.64966214, -0.39971262, -0.55720154, -0.68722968, -0.63594904,\n",
       "        -0.58711853, -0.67298809, -0.54177439, -0.62726342, -0.69836289,\n",
       "        -0.49984146, -0.58464287, -0.65471889, -0.71030993],\n",
       "       [-0.10829564, -0.30360249, -0.27512675, -0.24593976, -0.35011895,\n",
       "        -0.33798932, -0.43475543, -0.42281704, -0.41135377, -0.35720728,\n",
       "        -0.42385784, -0.41817487, -0.48043203, -0.47513773, -0.46947133,\n",
       "        -0.52746458, -0.52228742, -0.5159677 , -0.50874624],\n",
       "       [ 1.66753457,  1.55480269,  1.48852024,  1.83634954,  1.76852422,\n",
       "         1.73198669,  1.68758845,  1.65079734,  1.58825523,  1.98973911,\n",
       "         1.93958198,  1.91602725,  1.87758262,  1.85306102,  1.808203  ,\n",
       "         1.80527474,  1.7790477 ,  1.73245704,  1.66735115],\n",
       "       [ 1.3238255 ,  1.28335025,  1.37399771,  1.3618677 ,  1.34119566,\n",
       "         1.41834454,  1.30575267,  1.37747156,  1.42661178,  1.36984437,\n",
       "         1.35728755,  1.43127595,  1.33383591,  1.40473862,  1.46055144,\n",
       "         1.30054991,  1.36738538,  1.41860818,  1.45324263],\n",
       "       [-0.50928955, -0.57853509, -0.57288533, -0.58941507, -0.62403078,\n",
       "        -0.62478636, -0.65093557, -0.6495199 , -0.64560429, -0.63594904,\n",
       "        -0.6570741 , -0.6601066 , -0.67420925, -0.67621728, -0.67607687,\n",
       "        -0.68732556, -0.68817847, -0.68632095, -0.68191356],\n",
       "       [-0.85299862, -0.73862243, -0.86491779, -0.84666426, -0.80309469,\n",
       "        -0.8545764 , -0.76520034, -0.81002856, -0.84635022, -0.81835568,\n",
       "        -0.79909928, -0.82573447, -0.78108378, -0.80497775, -0.82403395,\n",
       "        -0.76397614, -0.78504637, -0.80099256, -0.81162672],\n",
       "       [-0.10829564, -0.3453644 , -0.27512675, -0.24593976, -0.37063669,\n",
       "        -0.33798932, -0.46921662, -0.44031827, -0.41135377, -0.35720728,\n",
       "        -0.43596954, -0.41817487, -0.50124791, -0.48577155, -0.46947133,\n",
       "        -0.55417839, -0.54045486, -0.52514597, -0.50874624],\n",
       "       [ 1.3238255 ,  1.50956062,  1.51142475,  1.3618677 ,  1.50285058,\n",
       "         1.51784766,  1.62224266,  1.63502337,  1.6211139 ,  1.36984437,\n",
       "         1.49608828,  1.5171526 ,  1.61190437,  1.63235956,  1.63411047,\n",
       "         1.71661182,  1.73518959,  1.73331484,  1.71158571],\n",
       "       [ 0.49892372,  0.69172313,  0.68686252,  0.36305483,  0.46940311,\n",
       "         0.47157227,  0.55868969,  0.56054551,  0.54949731,  0.22205979,\n",
       "         0.29261589,  0.29621858,  0.35616197,  0.35996355,  0.35653275,\n",
       "         0.41258796,  0.4160475 ,  0.41165748,  0.39973047],\n",
       "       [-0.22286533, -0.30360249, -0.38964928, -0.34883943, -0.3946984 ,\n",
       "        -0.43790705, -0.43475543, -0.47100593, -0.50498332, -0.44464294,\n",
       "        -0.47553175, -0.50199629, -0.50323647, -0.52645713, -0.54801871,\n",
       "        -0.52746458, -0.54751012, -0.56534706, -0.58059132],\n",
       "       [ 0.92283158,  0.98753669,  1.16785715,  0.8516568 ,  0.89303848,\n",
       "         1.02022838,  0.91763011,  1.03961837,  1.14678311,  0.7553113 ,\n",
       "         0.78698737,  0.8916922 ,  0.80904728,  0.91219092,  1.00800755,\n",
       "         0.82195335,  0.92245265,  1.01474078,  1.0967117 ],\n",
       "       [-1.68935736, -1.57038055, -1.61504037, -1.32935902, -1.27536954,\n",
       "        -1.29104272, -1.22132034, -1.23126802, -1.23036935, -1.08577536,\n",
       "        -1.059107  , -1.06823088, -1.03182716, -1.03869387, -1.03989664,\n",
       "        -1.0039527 , -1.00848322, -1.00703272, -0.99985192],\n",
       "       [-0.65823015, -0.72818195, -0.68168174, -0.70510098, -0.73628768,\n",
       "        -0.72096235, -0.75800881, -0.74270861, -0.72374852, -0.72097288,\n",
       "        -0.73833986, -0.73386598, -0.75106948, -0.74648008, -0.7390112 ,\n",
       "        -0.75932276, -0.75436367, -0.74600082, -0.73459469],\n",
       "       [-1.54041677, -1.46945593, -1.36881693, -1.25826297, -1.21979133,\n",
       "        -1.19724029, -1.17827415, -1.1565786 , -1.12520726, -1.05364945,\n",
       "        -1.03282103, -1.02990619, -1.01045872, -1.0071258 , -0.99830309,\n",
       "        -0.98669659, -0.98263263, -0.97277377, -0.95757216],\n",
       "       [ 0.98011642,  0.87965175,  0.88727695,  0.92168575,  0.85554697,\n",
       "         0.86786421,  0.78334174,  0.79410705,  0.78889855,  0.83629597,\n",
       "         0.78371087,  0.79805423,  0.72616513,  0.7391929 ,  0.74158752,\n",
       "         0.66492014,  0.6762531 ,  0.67725386,  0.66815422],\n",
       "       [ 0.75097704,  1.19982642,  1.70611305,  0.64728661,  0.92431249,\n",
       "         1.25457897,  1.19320854,  1.54318892,  1.90754522,  0.52536921,\n",
       "         0.73098261,  0.98467267,  0.94214092,  1.21848427,  1.5150645 ,\n",
       "         1.15808887,  1.45652297,  1.77426611,  2.10709311],\n",
       "       [ 0.02918799, -0.15743579, -0.10334295, -0.11742949, -0.2216779 ,\n",
       "        -0.19476701, -0.30956099, -0.2850452 , -0.26262855, -0.24355679,\n",
       "        -0.31315163, -0.29745633, -0.37414458, -0.36004899, -0.34641482,\n",
       "        -0.42670551, -0.41389039, -0.40081281, -0.38787298],\n",
       "       [-0.5665744 , -0.61333668, -0.6301466 , -0.63467187, -0.65847571,\n",
       "        -0.66894087, -0.67650277, -0.68346047, -0.68722968, -0.66977302,\n",
       "        -0.68466742, -0.69274643, -0.6964345 , -0.70288779, -0.70688419,\n",
       "        -0.70497055, -0.70971699, -0.71147436, -0.71030993],\n",
       "       [ 1.2092558 ,  1.07802084,  0.67541027,  1.21132928,  1.12519981,\n",
       "         0.85034751,  1.033252  ,  0.77761059,  0.53622576,  1.18272067,\n",
       "         1.11384441,  0.88873236,  1.03936724,  0.82496187,  0.6217025 ,\n",
       "         0.96074813,  0.75698608,  0.56413168,  0.38529822],\n",
       "       [-0.85299862, -0.8186661 , -0.72176462, -0.84666426, -0.8331252 ,\n",
       "        -0.80016062, -0.81912774, -0.78780924, -0.75153375, -0.81835568,\n",
       "        -0.81263636, -0.80107848, -0.80595863, -0.79466825, -0.77961524,\n",
       "        -0.79811068, -0.78687315, -0.77154166, -0.7526691 ],\n",
       "       [-0.62385924, -0.98223359, -0.68168174, -0.6789759 , -0.82958122,\n",
       "        -0.70967497, -0.92268296, -0.83175724, -0.72374852, -0.70218788,\n",
       "        -0.77899186, -0.72273617, -0.82955089, -0.78692165, -0.73414282,\n",
       "        -0.85973625, -0.82697526, -0.78506121, -0.73459469],\n",
       "       [-0.73842893, -0.87782881, -0.46981505, -0.76472563, -0.82100108,\n",
       "        -0.66292923, -0.85761384, -0.72652803, -0.56789618, -0.76291014,\n",
       "        -0.79096343, -0.71921835, -0.8101946 , -0.74984051, -0.67388177,\n",
       "        -0.82163074, -0.77062674, -0.70572909, -0.62692688],\n",
       "       [ 1.78210426,  1.54784238,  1.59159052,  2.00213235,  1.84083371,\n",
       "         1.8909844 ,  1.67749082,  1.72136012,  1.73751044,  2.21667807,\n",
       "         2.07967063,  2.13832699,  1.93724544,  1.99057995,  2.02250988,\n",
       "         1.79151358,  1.8388309 ,  1.86510712,  1.87017916],\n",
       "       [-0.68114409, -0.43584855, -0.68740786, -0.72232715, -0.62617581,\n",
       "        -0.73081938, -0.54188724, -0.64252343, -0.72775096, -0.73322359,\n",
       "        -0.68876371, -0.74233684, -0.64740019, -0.6998823 , -0.74426574,\n",
       "        -0.60901133, -0.66019781, -0.7030536 , -0.73721994],\n",
       "       [-1.08213801, -0.83606689, -1.01379708, -0.99910823, -0.90978693,\n",
       "        -0.97439475, -0.83056835, -0.89045091, -0.93763902, -0.914376  ,\n",
       "        -0.87579737, -0.90594415, -0.8394566 , -0.86783709, -0.88971293,\n",
       "        -0.80517675, -0.83161762, -0.85132087, -0.86418295],\n",
       "       [ 0.98011642,  0.97361606,  0.82428956,  0.92168575,  0.91765977,\n",
       "         0.82567903,  0.90008447,  0.81183344,  0.71220072,  0.83629597,\n",
       "         0.83304252,  0.76437672,  0.82104265,  0.75368428,  0.67828111,\n",
       "         0.80117911,  0.734877  ,  0.66058776,  0.58051366],\n",
       "       [-0.73842893, -0.6724994 , -0.80765652, -0.76472563, -0.74029797,\n",
       "        -0.79746575, -0.71904004, -0.7683623 , -0.80925172, -0.76291014,\n",
       "        -0.75285195, -0.78308016, -0.7432315 , -0.77017544, -0.79233389,\n",
       "        -0.73370241, -0.75732858, -0.77586668, -0.78907055],\n",
       "       [-0.32597805, -0.51589222, -0.33238802, -0.43819065, -0.53191234,\n",
       "        -0.44999253, -0.60389678, -0.53382623, -0.45872061, -0.51789377,\n",
       "        -0.57375608, -0.53075347, -0.61886945, -0.58182548, -0.540596  ,\n",
       "        -0.65414268, -0.62201308, -0.58547948, -0.54551585],\n",
       "       [ 1.55296488,  1.65572732,  1.17358328,  1.67437783,  1.76647245,\n",
       "         1.41564966,  1.83581963,  1.48653169,  1.15436291,  1.77311374,\n",
       "         1.86593885,  1.55800662,  1.94490872,  1.63170618,  1.33386719,\n",
       "         2.00979968,  1.69159321,  1.38877907,  1.10612704],\n",
       "       [ 0.6936922 ,  0.7717668 ,  0.8987292 ,  0.58106876,  0.62475349,\n",
       "         0.70995482,  0.6529349 ,  0.73464384,  0.80298714,  0.45295921,\n",
       "         0.48230441,  0.54873632,  0.50344372,  0.5688863 ,  0.62749993,\n",
       "         0.51683303,  0.5805126 ,  0.63680735,  0.68441819]])"
      ]
     },
     "execution_count": 171,
     "metadata": {},
     "output_type": "execute_result"
    }
   ],
   "source": [
    "\n",
    "train_scaled\n"
   ]
  },
  {
   "cell_type": "code",
   "execution_count": 152,
   "metadata": {},
   "outputs": [],
   "source": [
    "from sklearn.linear_model import Ridge\n",
    "train_score = []\n",
    "test_score = []\n",
    "alpha_list = [0.001, 0.01, 0.1, 1, 10, 100]\n",
    "for alpha in alpha_list:\n",
    "    # 릿지 모델을 만듭니다\n",
    "    ridge = Ridge(alpha=alpha)\n",
    "    # 릿지 모델을 훈련합니다\n",
    "    ridge.fit(train_scaled, train_target)\n",
    "    # 훈련 점수와 테스트 점수를 저장합니다\n",
    "    train_score.append(ridge.score(train_scaled, train_target))\n",
    "    test_score.append(ridge.score(test_scaled, test_target))"
   ]
  },
  {
   "cell_type": "code",
   "execution_count": 153,
   "metadata": {},
   "outputs": [
    {
     "data": {
      "image/png": "[encoded data removed]",
      "text/plain": [
       "<matplotlib.figure.Figure at 0x179ed657da0>"
      ]
     },
     "metadata": {
      "needs_background": "light"
     },
     "output_type": "display_data"
    },
    {
     "name": "stdout",
     "output_type": "stream",
     "text": [
      "0.9876984476491449\n",
      "0.9827901012337936\n"
     ]
    }
   ],
   "source": [
    "plt.plot(np.log10(alpha_list), train_score)\n",
    "plt.plot(np.log10(alpha_list), test_score)\n",
    "plt.show()\n",
    "ridge = Ridge(10)\n",
    "ridge.fit(train_scaled, train_target)\n",
    "print(ridge.score(train_scaled, train_target))\n",
    "print(ridge.score(test_scaled, test_target))\n"
   ]
  },
  {
   "cell_type": "code",
   "execution_count": 173,
   "metadata": {},
   "outputs": [
    {
     "ename": "ValueError",
     "evalue": "x and y must be the same size",
     "output_type": "error",
     "traceback": [
      "\u001b[1;31m---------------------------------------------------------------------------\u001b[0m",
      "\u001b[1;31mValueError\u001b[0m                                Traceback (most recent call last)",
      "\u001b[1;32m<ipython-input-173-b09d19a05cf2>\u001b[0m in \u001b[0;36m<module>\u001b[1;34m()\u001b[0m\n\u001b[1;32m----> 1\u001b[1;33m \u001b[0mplt\u001b[0m\u001b[1;33m.\u001b[0m\u001b[0mscatter\u001b[0m\u001b[1;33m(\u001b[0m\u001b[0mtrain_scaled\u001b[0m\u001b[1;33m,\u001b[0m \u001b[0mtrain_target\u001b[0m\u001b[1;33m)\u001b[0m\u001b[1;33m\u001b[0m\u001b[0m\n\u001b[0m",
      "\u001b[1;32m~\\Anaconda3\\lib\\site-packages\\matplotlib\\pyplot.py\u001b[0m in \u001b[0;36mscatter\u001b[1;34m(x, y, s, c, marker, cmap, norm, vmin, vmax, alpha, linewidths, verts, edgecolors, hold, data, **kwargs)\u001b[0m\n\u001b[0;32m   3376\u001b[0m                          \u001b[0mvmin\u001b[0m\u001b[1;33m=\u001b[0m\u001b[0mvmin\u001b[0m\u001b[1;33m,\u001b[0m \u001b[0mvmax\u001b[0m\u001b[1;33m=\u001b[0m\u001b[0mvmax\u001b[0m\u001b[1;33m,\u001b[0m \u001b[0malpha\u001b[0m\u001b[1;33m=\u001b[0m\u001b[0malpha\u001b[0m\u001b[1;33m,\u001b[0m\u001b[1;33m\u001b[0m\u001b[0m\n\u001b[0;32m   3377\u001b[0m                          \u001b[0mlinewidths\u001b[0m\u001b[1;33m=\u001b[0m\u001b[0mlinewidths\u001b[0m\u001b[1;33m,\u001b[0m \u001b[0mverts\u001b[0m\u001b[1;33m=\u001b[0m\u001b[0mverts\u001b[0m\u001b[1;33m,\u001b[0m\u001b[1;33m\u001b[0m\u001b[0m\n\u001b[1;32m-> 3378\u001b[1;33m                          edgecolors=edgecolors, data=data, **kwargs)\n\u001b[0m\u001b[0;32m   3379\u001b[0m     \u001b[1;32mfinally\u001b[0m\u001b[1;33m:\u001b[0m\u001b[1;33m\u001b[0m\u001b[0m\n\u001b[0;32m   3380\u001b[0m         \u001b[0max\u001b[0m\u001b[1;33m.\u001b[0m\u001b[0m_hold\u001b[0m \u001b[1;33m=\u001b[0m \u001b[0mwashold\u001b[0m\u001b[1;33m\u001b[0m\u001b[0m\n",
      "\u001b[1;32m~\\Anaconda3\\lib\\site-packages\\matplotlib\\__init__.py\u001b[0m in \u001b[0;36minner\u001b[1;34m(ax, *args, **kwargs)\u001b[0m\n\u001b[0;32m   1715\u001b[0m                     warnings.warn(msg % (label_namer, func.__name__),\n\u001b[0;32m   1716\u001b[0m                                   RuntimeWarning, stacklevel=2)\n\u001b[1;32m-> 1717\u001b[1;33m             \u001b[1;32mreturn\u001b[0m \u001b[0mfunc\u001b[0m\u001b[1;33m(\u001b[0m\u001b[0max\u001b[0m\u001b[1;33m,\u001b[0m \u001b[1;33m*\u001b[0m\u001b[0margs\u001b[0m\u001b[1;33m,\u001b[0m \u001b[1;33m**\u001b[0m\u001b[0mkwargs\u001b[0m\u001b[1;33m)\u001b[0m\u001b[1;33m\u001b[0m\u001b[0m\n\u001b[0m\u001b[0;32m   1718\u001b[0m         \u001b[0mpre_doc\u001b[0m \u001b[1;33m=\u001b[0m \u001b[0minner\u001b[0m\u001b[1;33m.\u001b[0m\u001b[0m__doc__\u001b[0m\u001b[1;33m\u001b[0m\u001b[0m\n\u001b[0;32m   1719\u001b[0m         \u001b[1;32mif\u001b[0m \u001b[0mpre_doc\u001b[0m \u001b[1;32mis\u001b[0m \u001b[1;32mNone\u001b[0m\u001b[1;33m:\u001b[0m\u001b[1;33m\u001b[0m\u001b[0m\n",
      "\u001b[1;32m~\\Anaconda3\\lib\\site-packages\\matplotlib\\axes\\_axes.py\u001b[0m in \u001b[0;36mscatter\u001b[1;34m(self, x, y, s, c, marker, cmap, norm, vmin, vmax, alpha, linewidths, verts, edgecolors, **kwargs)\u001b[0m\n\u001b[0;32m   3953\u001b[0m         \u001b[0my\u001b[0m \u001b[1;33m=\u001b[0m \u001b[0mnp\u001b[0m\u001b[1;33m.\u001b[0m\u001b[0mma\u001b[0m\u001b[1;33m.\u001b[0m\u001b[0mravel\u001b[0m\u001b[1;33m(\u001b[0m\u001b[0my\u001b[0m\u001b[1;33m)\u001b[0m\u001b[1;33m\u001b[0m\u001b[0m\n\u001b[0;32m   3954\u001b[0m         \u001b[1;32mif\u001b[0m \u001b[0mx\u001b[0m\u001b[1;33m.\u001b[0m\u001b[0msize\u001b[0m \u001b[1;33m!=\u001b[0m \u001b[0my\u001b[0m\u001b[1;33m.\u001b[0m\u001b[0msize\u001b[0m\u001b[1;33m:\u001b[0m\u001b[1;33m\u001b[0m\u001b[0m\n\u001b[1;32m-> 3955\u001b[1;33m             \u001b[1;32mraise\u001b[0m \u001b[0mValueError\u001b[0m\u001b[1;33m(\u001b[0m\u001b[1;34m\"x and y must be the same size\"\u001b[0m\u001b[1;33m)\u001b[0m\u001b[1;33m\u001b[0m\u001b[0m\n\u001b[0m\u001b[0;32m   3956\u001b[0m \u001b[1;33m\u001b[0m\u001b[0m\n\u001b[0;32m   3957\u001b[0m         \u001b[1;32mif\u001b[0m \u001b[0ms\u001b[0m \u001b[1;32mis\u001b[0m \u001b[1;32mNone\u001b[0m\u001b[1;33m:\u001b[0m\u001b[1;33m\u001b[0m\u001b[0m\n",
      "\u001b[1;31mValueError\u001b[0m: x and y must be the same size"
     ]
    },
    {
     "data": {
      "image/png": "[encoded data removed]",
      "text/plain": [
       "<matplotlib.figure.Figure at 0x179ed83d780>"
      ]
     },
     "metadata": {
      "needs_background": "light"
     },
     "output_type": "display_data"
    }
   ],
   "source": []
  },
  {
   "cell_type": "code",
   "execution_count": null,
   "metadata": {},
   "outputs": [],
   "source": []
  }
 ],
 "metadata": {
  "kernelspec": {
   "display_name": "Python 3",
   "language": "python",
   "name": "python3"
  },
  "language_info": {
   "codemirror_mode": {
    "name": "ipython",
    "version": 3
   },
   "file_extension": ".py",
   "mimetype": "text/x-python",
   "name": "python",
   "nbconvert_exporter": "python",
   "pygments_lexer": "ipython3",
   "version": "3.6.4"
  }
 },
 "nbformat": 4,
 "nbformat_minor": 2
}
