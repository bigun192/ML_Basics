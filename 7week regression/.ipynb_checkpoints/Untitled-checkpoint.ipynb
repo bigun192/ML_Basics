{
 "cells": [
  {
   "cell_type": "code",
   "execution_count": 2,
   "metadata": {},
   "outputs": [],
   "source": [
    "#예측 = regression 과거의 데이터로부터 미래를 예측한다.\n",
    "#분류 = classification 현재 있는 데이터를 분류한다.\n",
    "#https://scikit-learn.org/stable/index.html 사이킷런 홈페이지\n",
    "\n",
    "#상관관계 분석\n",
    "\n",
    "#농어 데이터\n",
    "import numpy as np\n",
    "perch_length = np.array([8.4, 13.7, 15.0, 16.2, 17.4, 18.0, 18.7, 19.0, 19.6, 20.0, 21.0,\n",
    "       21.0, 21.0, 21.3, 22.0, 22.0, 22.0, 22.0, 22.0, 22.5, 22.5, 22.7,\n",
    "       23.0, 23.5, 24.0, 24.0, 24.6, 25.0, 25.6, 26.5, 27.3, 27.5, 27.5,\n",
    "       27.5, 28.0, 28.7, 30.0, 32.8, 34.5, 35.0, 36.5, 36.0, 37.0, 37.0,\n",
    "       39.0, 39.0, 39.0, 40.0, 40.0, 40.0, 40.0, 42.0, 43.0, 43.0, 43.5,\n",
    "       44.0])\n",
    "perch_weight = np.array([5.9, 32.0, 40.0, 51.5, 70.0, 100.0, 78.0, 80.0, 85.0, 85.0, 110.0,\n",
    "       115.0, 125.0, 130.0, 120.0, 120.0, 130.0, 135.0, 110.0, 130.0,\n",
    "       150.0, 145.0, 150.0, 170.0, 225.0, 145.0, 188.0, 180.0, 197.0,\n",
    "       218.0, 300.0, 260.0, 265.0, 250.0, 250.0, 300.0, 320.0, 514.0,\n",
    "       556.0, 840.0, 685.0, 700.0, 700.0, 690.0, 900.0, 650.0, 820.0,\n",
    "       850.0, 900.0, 1015.0, 820.0, 1100.0, 1000.0, 1100.0, 1000.0,\n",
    "       1000.0])\n",
    "\n",
    "\n"
   ]
  },
  {
   "cell_type": "code",
   "execution_count": 6,
   "metadata": {},
   "outputs": [
    {
     "data": {
      "image/png": "[encoded data removed]",
      "text/plain": [
       "<matplotlib.figure.Figure at 0x1e749b554a8>"
      ]
     },
     "metadata": {
      "needs_background": "light"
     },
     "output_type": "display_data"
    }
   ],
   "source": [
    "import matplotlib.pyplot as plt\n",
    "\n",
    "plt.scatter(perch_length,perch_weight)\n",
    "plt.ylabel('weight')\n",
    "plt.xlabel('length')\n",
    "\n",
    "plt.show()"
   ]
  },
  {
   "cell_type": "code",
   "execution_count": 13,
   "metadata": {},
   "outputs": [
    {
     "name": "stdout",
     "output_type": "stream",
     "text": [
      "[[19.6]\n",
      " [22. ]\n",
      " [18.7]\n",
      " [17.4]\n",
      " [36. ]\n",
      " [25. ]\n",
      " [40. ]\n",
      " [39. ]\n",
      " [43. ]\n",
      " [22. ]\n",
      " [20. ]\n",
      " [22. ]\n",
      " [24. ]\n",
      " [27.5]\n",
      " [43. ]\n",
      " [40. ]\n",
      " [24. ]\n",
      " [21. ]\n",
      " [27.5]\n",
      " [40. ]\n",
      " [32.8]\n",
      " [26.5]\n",
      " [36.5]\n",
      " [13.7]\n",
      " [22.7]\n",
      " [15. ]\n",
      " [37. ]\n",
      " [35. ]\n",
      " [28.7]\n",
      " [23.5]\n",
      " [39. ]\n",
      " [21. ]\n",
      " [23. ]\n",
      " [22. ]\n",
      " [44. ]\n",
      " [22.5]\n",
      " [19. ]\n",
      " [37. ]\n",
      " [22. ]\n",
      " [25.6]\n",
      " [42. ]\n",
      " [34.5]]\n",
      "\n",
      "[[ 8.4]\n",
      " [18. ]\n",
      " [27.5]\n",
      " [21.3]\n",
      " [22.5]\n",
      " [40. ]\n",
      " [30. ]\n",
      " [24.6]\n",
      " [39. ]\n",
      " [21. ]\n",
      " [43.5]\n",
      " [16.2]\n",
      " [28. ]\n",
      " [27.3]]\n"
     ]
    }
   ],
   "source": [
    "from sklearn.model_selection import train_test_split\n",
    "train_input,test_input,train_target,test_target = train_test_split(perch_length,perch_weight, random_state = 42)\n",
    "train_input = train_input.reshape(-1,1)\n",
    "test_input = test_input.reshape(-1,1)\n",
    "\n",
    "print(train_input)\n",
    "print()\n",
    "print(test_input)"
   ]
  },
  {
   "cell_type": "code",
   "execution_count": 15,
   "metadata": {},
   "outputs": [
    {
     "data": {
      "text/plain": [
       "0.9928094061010639"
      ]
     },
     "execution_count": 15,
     "metadata": {},
     "output_type": "execute_result"
    }
   ],
   "source": [
    "from sklearn.neighbors import KNeighborsRegressor\n",
    "knr = KNeighborsRegressor()\n",
    "knr.fit(train_input, train_target)\n",
    "\n",
    "knr.score(test_input,test_target) #R2 결정계수 독립변수가 종속변수를 얼마만큼 설명해주는지에 대한 지표\n",
    "                                  #  길이가 무게를 99%를 설명한다는 의미"
   ]
  },
  {
   "cell_type": "code",
   "execution_count": 17,
   "metadata": {},
   "outputs": [
    {
     "name": "stdout",
     "output_type": "stream",
     "text": [
      "19.157142857142862\n"
     ]
    }
   ],
   "source": [
    "from sklearn.metrics import mean_absolute_error\n",
    "\n",
    "test_prediction = knr.predict(test_input)\n",
    "mae = mean_absolute_error(test_target,test_prediction)\n",
    "print(mae)\n",
    "#예측이 평균적으로 19그램 정도 타깃값과 다르다는 의미"
   ]
  },
  {
   "cell_type": "code",
   "execution_count": 20,
   "metadata": {},
   "outputs": [
    {
     "name": "stdout",
     "output_type": "stream",
     "text": [
      "0.9698823289099255\n",
      "0.9928094061010639\n"
     ]
    }
   ],
   "source": [
    "#오버피팅: 학습데이터에만 적응하여 새로운 데이터를 잘 예측 못하는 현상\n",
    "#언더피팅: 아직 학습이 부족하여 예측을 제대로 못하는 현상\n",
    "print(knr.score(train_input,train_target))\n",
    "print(knr.score(test_input,test_target))\n",
    "\n",
    "#훈련데이터 세이 R2점수가 더 높다는 것은 언더피팅이라는 뜻.\n",
    "#현재 언더피팅 상태이다.\n"
   ]
  },
  {
   "cell_type": "code",
   "execution_count": 54,
   "metadata": {},
   "outputs": [
    {
     "data": {
      "text/plain": [
       "[<matplotlib.lines.Line2D at 0x1e74bd09b00>]"
      ]
     },
     "execution_count": 54,
     "metadata": {},
     "output_type": "execute_result"
    },
    {
     "data": {
      "image/png": "[encoded data removed]",
      "text/plain": [
       "<matplotlib.figure.Figure at 0x1e74bcdd5c0>"
      ]
     },
     "metadata": {
      "needs_background": "light"
     },
     "output_type": "display_data"
    }
   ],
   "source": [
    "#하이퍼 파라미터 조정으로 R2스퀘어 값을 올릴 수 있다.\n",
    "\n",
    "sco = []\n",
    "num =[]\n",
    "sco2 = []\n",
    "for i in range(1,15):\n",
    "    \n",
    "    \n",
    "    knr = KNeighborsRegressor(n_neighbors = i)\n",
    "    knr.fit(train_input, train_target)\n",
    "    sco.append(knr.score(train_input,train_target))\n",
    "    sco2.append(knr.score(test_input,test_target))\n",
    "    \n",
    "    num.append(i)\n",
    "\n",
    "plt.plot(num,sco)\n",
    "plt.plot(num,sco2)\n",
    "#x 가 0일때 y값 = b   / 무게 = a*길이 + b\n"
   ]
  },
  {
   "cell_type": "code",
   "execution_count": 61,
   "metadata": {},
   "outputs": [
    {
     "name": "stdout",
     "output_type": "stream",
     "text": [
      "[1033.33333333]\n"
     ]
    }
   ],
   "source": [
    " \n",
    "knr = KNeighborsRegressor(n_neighbors = 3)\n",
    "knr.fit(train_input, train_target)\n",
    "print(knr.predict([[50]]))"
   ]
  },
  {
   "cell_type": "code",
   "execution_count": 63,
   "metadata": {},
   "outputs": [
    {
     "name": "stdout",
     "output_type": "stream",
     "text": [
      "[1241.83860323]\n",
      "[39.01714496] -709.0186449535477\n"
     ]
    }
   ],
   "source": [
    "from sklearn.linear_model import LinearRegression\n",
    "\n",
    "lr = LinearRegression()\n",
    "lr.fit(train_input,train_target)\n",
    "\n",
    "# 길이가 50cm일때 무게 다시 예측. (실측은 50cm일때 1500g)\n",
    "print(lr.predict([[50]]))\n",
    "\n",
    "\n",
    "#coefficient_(기울기)\n",
    "#intercept_ (절편) 절편 = x가 0일때 y의 값  즉 -709는 농어의 길이가 0이면 무게가 -709라는 것. 즉 말이 안됨.\n",
    "print(lr.coef_,lr.intercept_)\n",
    "\n",
    "    "
   ]
  },
  {
   "cell_type": "code",
   "execution_count": 65,
   "metadata": {},
   "outputs": [
    {
     "data": {
      "text/plain": [
       "<matplotlib.collections.PathCollection at 0x1e74bfb1a90>"
      ]
     },
     "execution_count": 65,
     "metadata": {},
     "output_type": "execute_result"
    },
    {
     "data": {
      "image/png": "[encoded data removed]",
      "text/plain": [
       "<matplotlib.figure.Figure at 0x1e74bd789b0>"
      ]
     },
     "metadata": {
      "needs_background": "light"
     },
     "output_type": "display_data"
    }
   ],
   "source": [
    "plt.plot([15,50], [15*lr.coef_+lr.intercept_,50*lr.coef_+lr.intercept_])\n",
    "\n",
    "plt.scatter(50, 1241.8, marker = '^')"
   ]
  },
  {
   "cell_type": "code",
   "execution_count": 67,
   "metadata": {},
   "outputs": [
    {
     "name": "stdout",
     "output_type": "stream",
     "text": [
      "[[ 384.16   19.6 ]\n",
      " [ 484.     22.  ]\n",
      " [ 349.69   18.7 ]\n",
      " [ 302.76   17.4 ]\n",
      " [1296.     36.  ]\n",
      " [ 625.     25.  ]\n",
      " [1600.     40.  ]\n",
      " [1521.     39.  ]\n",
      " [1849.     43.  ]\n",
      " [ 484.     22.  ]\n",
      " [ 400.     20.  ]\n",
      " [ 484.     22.  ]\n",
      " [ 576.     24.  ]\n",
      " [ 756.25   27.5 ]\n",
      " [1849.     43.  ]\n",
      " [1600.     40.  ]\n",
      " [ 576.     24.  ]\n",
      " [ 441.     21.  ]\n",
      " [ 756.25   27.5 ]\n",
      " [1600.     40.  ]\n",
      " [1075.84   32.8 ]\n",
      " [ 702.25   26.5 ]\n",
      " [1332.25   36.5 ]\n",
      " [ 187.69   13.7 ]\n",
      " [ 515.29   22.7 ]\n",
      " [ 225.     15.  ]\n",
      " [1369.     37.  ]\n",
      " [1225.     35.  ]\n",
      " [ 823.69   28.7 ]\n",
      " [ 552.25   23.5 ]\n",
      " [1521.     39.  ]\n",
      " [ 441.     21.  ]\n",
      " [ 529.     23.  ]\n",
      " [ 484.     22.  ]\n",
      " [1936.     44.  ]\n",
      " [ 506.25   22.5 ]\n",
      " [ 361.     19.  ]\n",
      " [1369.     37.  ]\n",
      " [ 484.     22.  ]\n",
      " [ 655.36   25.6 ]\n",
      " [1764.     42.  ]\n",
      " [1190.25   34.5 ]]\n"
     ]
    }
   ],
   "source": [
    "#다항 회귀 = 2차방정식으로 만드는 방법\n",
    "\n",
    "# 데이터를 제곱해서 뻥튀기 시킨다. 그 후 짝으로 만든다. 그렇게 데이터 양을 늘린다.\n",
    "train_poly = np.column_stack((train_input **2, train_input))\n",
    "test_poly = np.column_stack((test_input **2, test_input))\n",
    "\n",
    "print(train_poly)"
   ]
  },
  {
   "cell_type": "code",
   "execution_count": 71,
   "metadata": {},
   "outputs": [
    {
     "name": "stdout",
     "output_type": "stream",
     "text": [
      "[1573.98423528]\n",
      "[  1.01433211 -21.55792498] 116.05021078278259\n"
     ]
    }
   ],
   "source": [
    "\n",
    "lr = LinearRegression()\n",
    "lr.fit(train_poly,train_target)\n",
    "print(lr.predict([[50**2,50]]))  # 제곱한데이터, 그냥 데이터 총 행이 2개이므로 predict에도 2개의 행을 적어주어야 한다. \n",
    "print(lr.coef_,lr.intercept_)\n",
    "\n",
    "    \n"
   ]
  },
  {
   "cell_type": "code",
   "execution_count": 73,
   "metadata": {},
   "outputs": [
    {
     "data": {
      "text/plain": [
       "<matplotlib.collections.PathCollection at 0x1e74c05abe0>"
      ]
     },
     "execution_count": 73,
     "metadata": {},
     "output_type": "execute_result"
    },
    {
     "data": {
      "image/png": "[encoded data removed]",
      "text/plain": [
       "<matplotlib.figure.Figure at 0x1e74bfbb320>"
      ]
     },
     "metadata": {
      "needs_background": "light"
     },
     "output_type": "display_data"
    }
   ],
   "source": [
    "point = np.arange(15,50)\n",
    "plt.scatter(train_input, train_target)\n",
    "plt.plot(point,1.01*point**2 - 21.6*point +116.05)\n",
    "\n",
    "plt.scatter([50],[1574],marker='^')"
   ]
  },
  {
   "cell_type": "code",
   "execution_count": 75,
   "metadata": {},
   "outputs": [
    {
     "name": "stdout",
     "output_type": "stream",
     "text": [
      "[[7.5295360e+03 1.9600000e+01]\n",
      " [1.0648000e+04 2.2000000e+01]\n",
      " [6.5392030e+03 1.8700000e+01]\n",
      " [5.2680240e+03 1.7400000e+01]\n",
      " [4.6656000e+04 3.6000000e+01]\n",
      " [1.5625000e+04 2.5000000e+01]\n",
      " [6.4000000e+04 4.0000000e+01]\n",
      " [5.9319000e+04 3.9000000e+01]\n",
      " [7.9507000e+04 4.3000000e+01]\n",
      " [1.0648000e+04 2.2000000e+01]\n",
      " [8.0000000e+03 2.0000000e+01]\n",
      " [1.0648000e+04 2.2000000e+01]\n",
      " [1.3824000e+04 2.4000000e+01]\n",
      " [2.0796875e+04 2.7500000e+01]\n",
      " [7.9507000e+04 4.3000000e+01]\n",
      " [6.4000000e+04 4.0000000e+01]\n",
      " [1.3824000e+04 2.4000000e+01]\n",
      " [9.2610000e+03 2.1000000e+01]\n",
      " [2.0796875e+04 2.7500000e+01]\n",
      " [6.4000000e+04 4.0000000e+01]\n",
      " [3.5287552e+04 3.2800000e+01]\n",
      " [1.8609625e+04 2.6500000e+01]\n",
      " [4.8627125e+04 3.6500000e+01]\n",
      " [2.5713530e+03 1.3700000e+01]\n",
      " [1.1697083e+04 2.2700000e+01]\n",
      " [3.3750000e+03 1.5000000e+01]\n",
      " [5.0653000e+04 3.7000000e+01]\n",
      " [4.2875000e+04 3.5000000e+01]\n",
      " [2.3639903e+04 2.8700000e+01]\n",
      " [1.2977875e+04 2.3500000e+01]\n",
      " [5.9319000e+04 3.9000000e+01]\n",
      " [9.2610000e+03 2.1000000e+01]\n",
      " [1.2167000e+04 2.3000000e+01]\n",
      " [1.0648000e+04 2.2000000e+01]\n",
      " [8.5184000e+04 4.4000000e+01]\n",
      " [1.1390625e+04 2.2500000e+01]\n",
      " [6.8590000e+03 1.9000000e+01]\n",
      " [5.0653000e+04 3.7000000e+01]\n",
      " [1.0648000e+04 2.2000000e+01]\n",
      " [1.6777216e+04 2.5600000e+01]\n",
      " [7.4088000e+04 4.2000000e+01]\n",
      " [4.1063625e+04 3.4500000e+01]]\n",
      "[253.25656548]\n",
      "[0.0112828  7.40825783] -145.3633207209529\n"
     ]
    },
    {
     "data": {
      "text/plain": [
       "<matplotlib.collections.PathCollection at 0x1e74c0d2438>"
      ]
     },
     "execution_count": 75,
     "metadata": {},
     "output_type": "execute_result"
    },
    {
     "data": {
      "image/png": "[encoded data removed]",
      "text/plain": [
       "<matplotlib.figure.Figure at 0x1e74bfe0c88>"
      ]
     },
     "metadata": {
      "needs_background": "light"
     },
     "output_type": "display_data"
    }
   ],
   "source": [
    "#다항 회귀 = 2차방정식으로 만드는 방법\n",
    "\n",
    "# 데이터를 제곱해서 뻥튀기 시킨다. 그 후 짝으로 만든다. 그렇게 데이터 양을 늘린다.\n",
    "train_poly = np.column_stack((train_input **3, train_input))\n",
    "test_poly = np.column_stack((test_input **3, test_input))\n",
    "\n",
    "print(train_poly)\n",
    "\n"
   ]
  },
  {
   "cell_type": "code",
   "execution_count": 78,
   "metadata": {},
   "outputs": [
    {
     "name": "stdout",
     "output_type": "stream",
     "text": [
      "[1635.39930887]\n",
      "[0.0112828  7.40825783] -145.3633207209529\n"
     ]
    },
    {
     "data": {
      "text/plain": [
       "<matplotlib.collections.PathCollection at 0x1e74c21e748>"
      ]
     },
     "execution_count": 78,
     "metadata": {},
     "output_type": "execute_result"
    },
    {
     "data": {
      "image/png": "[encoded data removed]",
      "text/plain": [
       "<matplotlib.figure.Figure at 0x1e74c1bc7f0>"
      ]
     },
     "metadata": {
      "needs_background": "light"
     },
     "output_type": "display_data"
    }
   ],
   "source": [
    "\n",
    "lr = LinearRegression()\n",
    "lr.fit(train_poly,train_target)\n",
    "print(lr.predict([[50**3,50]]))  # 제곱한데이터, 그냥 데이터 총 행이 2개이므로 predict에도 2개의 행을 적어주어야 한다. \n",
    "print(lr.coef_,lr.intercept_)\n",
    "\n",
    "    \n",
    "point = np.arange(15,50)\n",
    "plt.scatter(train_input, train_target)\n",
    "plt.plot(point,0.0112828*point**3 - 7.40825783*point -145.36633207)\n",
    "#[  1.01433211 -21.55792498] 116.05021078278259\n",
    "plt.scatter([50],[1574],marker='^')"
   ]
  },
  {
   "cell_type": "code",
   "execution_count": 79,
   "metadata": {},
   "outputs": [],
   "source": [
    "#다중회귀 여러 특성 사용 \n",
    "#특성이 2개면 평면, 3개 이상이면 표현이어려움\n",
    "\n",
    "#3개 이상일 때는 여러 특성을 제곱 등 변형해서 새로운 특성을 만들어서 사용(특성공학) (피쳐 엔지니어링)\n",
    "\n",
    "#길이 특성 하나만 사용 simple Linear Regression\n",
    "#다항선형회귀(길이 특성을 여러 번 사용) Polynomial Regression\n",
    "#여러 특성 사용 Multiple Regression\n"
   ]
  },
  {
   "cell_type": "code",
   "execution_count": 91,
   "metadata": {},
   "outputs": [
    {
     "ename": "AttributeError",
     "evalue": "'DataFrame' object has no attribute 'to_numpy'",
     "output_type": "error",
     "traceback": [
      "\u001b[1;31m---------------------------------------------------------------------------\u001b[0m",
      "\u001b[1;31mAttributeError\u001b[0m                            Traceback (most recent call last)",
      "\u001b[1;32m<ipython-input-91-0b75b6d41773>\u001b[0m in \u001b[0;36m<module>\u001b[1;34m()\u001b[0m\n\u001b[0;32m      3\u001b[0m \u001b[0mdf\u001b[0m \u001b[1;33m=\u001b[0m \u001b[0mpd\u001b[0m\u001b[1;33m.\u001b[0m\u001b[0mread_csv\u001b[0m\u001b[1;33m(\u001b[0m\u001b[1;34m'../source_code/perch_full.csv'\u001b[0m\u001b[1;33m)\u001b[0m \u001b[1;31m#판다스 데이터프레임으로 저장\u001b[0m\u001b[1;33m\u001b[0m\u001b[0m\n\u001b[0;32m      4\u001b[0m \u001b[1;33m\u001b[0m\u001b[0m\n\u001b[1;32m----> 5\u001b[1;33m \u001b[0mperch_full\u001b[0m \u001b[1;33m=\u001b[0m \u001b[0mdf\u001b[0m\u001b[1;33m.\u001b[0m\u001b[0mto_numpy\u001b[0m\u001b[1;33m(\u001b[0m\u001b[1;33m)\u001b[0m \u001b[1;31m# 판다스데이터 프레임 -> 넘파이 배열로 변환\u001b[0m\u001b[1;33m\u001b[0m\u001b[0m\n\u001b[0m\u001b[0;32m      6\u001b[0m \u001b[0mprint\u001b[0m\u001b[1;33m(\u001b[0m\u001b[0mperch_full\u001b[0m\u001b[1;33m)\u001b[0m\u001b[1;33m\u001b[0m\u001b[0m\n",
      "\u001b[1;32m~\\Anaconda3\\lib\\site-packages\\pandas\\core\\generic.py\u001b[0m in \u001b[0;36m__getattr__\u001b[1;34m(self, name)\u001b[0m\n\u001b[0;32m   3612\u001b[0m             \u001b[1;32mif\u001b[0m \u001b[0mname\u001b[0m \u001b[1;32min\u001b[0m \u001b[0mself\u001b[0m\u001b[1;33m.\u001b[0m\u001b[0m_info_axis\u001b[0m\u001b[1;33m:\u001b[0m\u001b[1;33m\u001b[0m\u001b[0m\n\u001b[0;32m   3613\u001b[0m                 \u001b[1;32mreturn\u001b[0m \u001b[0mself\u001b[0m\u001b[1;33m[\u001b[0m\u001b[0mname\u001b[0m\u001b[1;33m]\u001b[0m\u001b[1;33m\u001b[0m\u001b[0m\n\u001b[1;32m-> 3614\u001b[1;33m             \u001b[1;32mreturn\u001b[0m \u001b[0mobject\u001b[0m\u001b[1;33m.\u001b[0m\u001b[0m__getattribute__\u001b[0m\u001b[1;33m(\u001b[0m\u001b[0mself\u001b[0m\u001b[1;33m,\u001b[0m \u001b[0mname\u001b[0m\u001b[1;33m)\u001b[0m\u001b[1;33m\u001b[0m\u001b[0m\n\u001b[0m\u001b[0;32m   3615\u001b[0m \u001b[1;33m\u001b[0m\u001b[0m\n\u001b[0;32m   3616\u001b[0m     \u001b[1;32mdef\u001b[0m \u001b[0m__setattr__\u001b[0m\u001b[1;33m(\u001b[0m\u001b[0mself\u001b[0m\u001b[1;33m,\u001b[0m \u001b[0mname\u001b[0m\u001b[1;33m,\u001b[0m \u001b[0mvalue\u001b[0m\u001b[1;33m)\u001b[0m\u001b[1;33m:\u001b[0m\u001b[1;33m\u001b[0m\u001b[0m\n",
      "\u001b[1;31mAttributeError\u001b[0m: 'DataFrame' object has no attribute 'to_numpy'"
     ]
    }
   ],
   "source": [
    "#데이터 준비\n",
    "import pandas as pd\n",
    "df = pd.read_csv('../source_code/perch_full.csv') #판다스 데이터프레임으로 저장\n",
    "\n",
    "perch_full = df.to_numpy() # 판다스데이터 프레임 -> 넘파이 배열로 변환\n",
    "print(perch_full)"
   ]
  },
  {
   "cell_type": "code",
   "execution_count": null,
   "metadata": {},
   "outputs": [],
   "source": [
    "#다항 특성 만들기.\n",
    "#전처리하기 위한 다양한 클래스를 제공 이런 클래스를 transformer라고 부른다.\n",
    "#transformer 는 일관되게 fit(), transform()메소드를 제공\n",
    "\n",
    "#오버피팅을 줄이는 Regularization(규제, 일반화)\n",
    "#L1과 L2가 있다.\n",
    "#L1은 Lasso\n",
    "#L2는 Ridge\n",
    "#일반화 전에는 표준화를 해야한다. z스코어\n",
    "#Z스코어 함수 ss=StandardScaler()\n",
    "#ss.fit(train_poly)\n",
    "\n",
    "#릿지 : ridge 는 계수를 제곱한 값을 기준으로 규제를 적용 일반적으로 ridge를 더 선호함. 당연하게도 오버피팅일 때 사용\n",
    "#ridge에 규제 강도를 조정하는 인자 값 alpha\n",
    "#EX) ridge =Ridge(alpha = 1.5)\n",
    "#하이퍼 파라미터 alpha의 최적값을 찾는 과정\n"
   ]
  }
 ],
 "metadata": {
  "kernelspec": {
   "display_name": "Python 3",
   "language": "python",
   "name": "python3"
  },
  "language_info": {
   "codemirror_mode": {
    "name": "ipython",
    "version": 3
   },
   "file_extension": ".py",
   "mimetype": "text/x-python",
   "name": "python",
   "nbconvert_exporter": "python",
   "pygments_lexer": "ipython3",
   "version": "3.6.4"
  }
 },
 "nbformat": 4,
 "nbformat_minor": 2
}
